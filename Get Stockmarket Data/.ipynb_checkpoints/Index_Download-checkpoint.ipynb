{
 "cells": [
  {
   "cell_type": "code",
   "execution_count": null,
   "metadata": {},
   "outputs": [],
   "source": [
    "import numpy as np\n",
    "import pandas as pd\n",
    "from pandas_datareader import data\n",
    "from datetime import date\n",
    "dax = data.DataReader('^GDAXI', start='01/01/2000', data_source='yahoo')\n",
    "dax.to_pickle('Dax_Panda') \n",
    "dax"
   ]
  },
  {
   "cell_type": "code",
   "execution_count": 53,
   "metadata": {},
   "outputs": [
    {
     "name": "stderr",
     "output_type": "stream",
     "text": [
      "[*********************100%***********************]  1 of 1 completed\n",
      "\n",
      "1 Failed download:\n",
      "['.WORLD:MSCI']: YFTzMissingError('$%ticker%: possibly delisted; no timezone found')\n"
     ]
    }
   ],
   "source": [
    "import yfinance as yf\n",
    "import pandas as pd\n",
    "\n",
    "# Set the ticker symbol for the MSCI World Index (example: '^MSCI' or '^ACWI' if available)\n",
    "# You may need to replace 'MSCI' with the correct ticker if it's different on Yahoo Finance\n",
    "ticker = \"^990100-USD-STRD\"  # Use the appropriate MSCI index ticker if available\n",
    "start_date = \"2001-01-01\"\n",
    "end_date = \"2024-10-31\"\n",
    "\n",
    "# Download historical data\n",
    "msci_data = yf.download(ticker, start=start_date, end=end_date, interval=\"1mo\")\n",
    "\n",
    "# Filter for Adjusted Close column\n",
    "msci_adjusted_close = msci_data[\"Adj Close\"]"
   ]
  },
  {
   "cell_type": "code",
   "execution_count": 25,
   "metadata": {},
   "outputs": [
    {
     "name": "stdout",
     "output_type": "stream",
     "text": [
      "x is a DataFrame\n"
     ]
    }
   ],
   "source": [
    "\n",
    "if isinstance(msci_adjusted_close, pd.DataFrame):\n",
    "    print(\"x is a DataFrame\")"
   ]
  },
  {
   "cell_type": "code",
   "execution_count": 49,
   "metadata": {},
   "outputs": [
    {
     "name": "stdout",
     "output_type": "stream",
     "text": [
      "<class 'pandas.core.frame.DataFrame'>\n",
      "DatetimeIndex: 262 entries, 2001-01-01 00:00:00+00:00 to 2022-10-01 00:00:00+00:00\n",
      "Data columns (total 1 columns):\n",
      " #   Column            Non-Null Count  Dtype  \n",
      "---  ------            --------------  -----  \n",
      " 0   ^990100-USD-STRD  262 non-null    float64\n",
      "dtypes: float64(1)\n",
      "memory usage: 4.1 KB\n"
     ]
    }
   ],
   "source": [
    "msci_adjusted_close.info()"
   ]
  },
  {
   "cell_type": "code",
   "execution_count": 69,
   "metadata": {},
   "outputs": [],
   "source": [
    "msci_adjusted_close\n",
    "msci_adjusted_close.index = msci_adjusted_close.index.tz_localize(None).strftime('%Y-%m-%d')\n",
    "msci_adjusted_close.to_excel('MSCI_World_bis22.xlsx')"
   ]
  },
  {
   "cell_type": "code",
   "execution_count": 37,
   "metadata": {},
   "outputs": [
    {
     "data": {
      "text/html": [
       "<div>\n",
       "<style scoped>\n",
       "    .dataframe tbody tr th:only-of-type {\n",
       "        vertical-align: middle;\n",
       "    }\n",
       "\n",
       "    .dataframe tbody tr th {\n",
       "        vertical-align: top;\n",
       "    }\n",
       "\n",
       "    .dataframe thead tr th {\n",
       "        text-align: left;\n",
       "    }\n",
       "\n",
       "    .dataframe thead tr:last-of-type th {\n",
       "        text-align: right;\n",
       "    }\n",
       "</style>\n",
       "<table border=\"1\" class=\"dataframe\">\n",
       "  <thead>\n",
       "    <tr>\n",
       "      <th>Price</th>\n",
       "      <th>Adj Close</th>\n",
       "      <th>Close</th>\n",
       "      <th>High</th>\n",
       "      <th>Low</th>\n",
       "      <th>Open</th>\n",
       "      <th>Volume</th>\n",
       "    </tr>\n",
       "    <tr>\n",
       "      <th>Ticker</th>\n",
       "      <th>^990100-USD-STRD</th>\n",
       "      <th>^990100-USD-STRD</th>\n",
       "      <th>^990100-USD-STRD</th>\n",
       "      <th>^990100-USD-STRD</th>\n",
       "      <th>^990100-USD-STRD</th>\n",
       "      <th>^990100-USD-STRD</th>\n",
       "    </tr>\n",
       "    <tr>\n",
       "      <th>Date</th>\n",
       "      <th></th>\n",
       "      <th></th>\n",
       "      <th></th>\n",
       "      <th></th>\n",
       "      <th></th>\n",
       "      <th></th>\n",
       "    </tr>\n",
       "  </thead>\n",
       "  <tbody>\n",
       "    <tr>\n",
       "      <th>2024-11-10 00:00:00+00:00</th>\n",
       "      <td>3791.22998</td>\n",
       "      <td>3791.22998</td>\n",
       "      <td>3796.129883</td>\n",
       "      <td>3780.449951</td>\n",
       "      <td>3787.060059</td>\n",
       "      <td>0</td>\n",
       "    </tr>\n",
       "  </tbody>\n",
       "</table>\n",
       "</div>"
      ],
      "text/plain": [
       "Price                            Adj Close            Close             High  \\\n",
       "Ticker                    ^990100-USD-STRD ^990100-USD-STRD ^990100-USD-STRD   \n",
       "Date                                                                           \n",
       "2024-11-10 00:00:00+00:00       3791.22998       3791.22998      3796.129883   \n",
       "\n",
       "Price                                  Low             Open           Volume  \n",
       "Ticker                    ^990100-USD-STRD ^990100-USD-STRD ^990100-USD-STRD  \n",
       "Date                                                                          \n",
       "2024-11-10 00:00:00+00:00      3780.449951      3787.060059                0  "
      ]
     },
     "execution_count": 37,
     "metadata": {},
     "output_type": "execute_result"
    }
   ],
   "source": [
    "data"
   ]
  },
  {
   "cell_type": "code",
   "execution_count": 63,
   "metadata": {},
   "outputs": [
    {
     "name": "stderr",
     "output_type": "stream",
     "text": [
      "[*********************100%***********************]  1 of 1 completed"
     ]
    },
    {
     "name": "stdout",
     "output_type": "stream",
     "text": [
      "Price                      Adj Close      Close       High        Low  \\\n",
      "Ticker                          URTH       URTH       URTH       URTH   \n",
      "Date                                                                    \n",
      "2012-02-01 00:00:00+00:00  43.030937  55.000000  55.000000  52.959999   \n",
      "2012-03-01 00:00:00+00:00  43.015297  54.980000  55.669998  54.070000   \n",
      "2012-04-01 00:00:00+00:00  43.187408  55.200001  55.200001  52.970001   \n",
      "2012-05-01 00:00:00+00:00  39.502396  50.490002  55.369999  50.160000   \n",
      "2012-06-01 00:00:00+00:00  39.799709  50.869999  52.650002  49.320000   \n",
      "\n",
      "Price                           Open Volume  \n",
      "Ticker                          URTH   URTH  \n",
      "Date                                         \n",
      "2012-02-01 00:00:00+00:00  52.959999    700  \n",
      "2012-03-01 00:00:00+00:00  55.000000   2400  \n",
      "2012-04-01 00:00:00+00:00  54.980000   8100  \n",
      "2012-05-01 00:00:00+00:00  55.369999  18500  \n",
      "2012-06-01 00:00:00+00:00  50.490002   3700  \n"
     ]
    },
    {
     "name": "stderr",
     "output_type": "stream",
     "text": [
      "\n"
     ]
    }
   ],
   "source": [
    "import yfinance as yf\n",
    "\n",
    "# Ticker für den MSCI World Index\n",
    "ticker = 'URTH'\n",
    "\n",
    "# Historische Daten herunterladen (monatlich) von 2000 bis heute\n",
    "data = yf.download(ticker, start=\"2000-01-01\", end=\"2024-10-31\", interval=\"1mo\")\n",
    "\n",
    "# Falls du nur die Performance (z.B. Schlusskurse) möchtest, kannst du diese extrahieren:\n",
    "performance_data = data['Close']"
   ]
  },
  {
   "cell_type": "code",
   "execution_count": 67,
   "metadata": {},
   "outputs": [],
   "source": [
    "# Falls du nur die Performance (z.B. Schlusskurse) möchtest, kannst du diese extrahieren:\n",
    "performance_data\n",
    "performance_data.index = performance_data.index.tz_localize(None).strftime('%Y-%m-%d')\n",
    "performance_data.to_excel('MSCI_World_ETF.xlsx')"
   ]
  },
  {
   "cell_type": "code",
   "execution_count": null,
   "metadata": {},
   "outputs": [],
   "source": []
  }
 ],
 "metadata": {
  "kernelspec": {
   "display_name": "Python 3 (ipykernel)",
   "language": "python",
   "name": "python3"
  },
  "language_info": {
   "codemirror_mode": {
    "name": "ipython",
    "version": 3
   },
   "file_extension": ".py",
   "mimetype": "text/x-python",
   "name": "python",
   "nbconvert_exporter": "python",
   "pygments_lexer": "ipython3",
   "version": "3.11.9"
  }
 },
 "nbformat": 4,
 "nbformat_minor": 4
}
